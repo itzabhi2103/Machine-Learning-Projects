{
  "nbformat": 4,
  "nbformat_minor": 0,
  "metadata": {
    "colab": {
      "provenance": []
    },
    "kernelspec": {
      "name": "python3",
      "display_name": "Python 3"
    },
    "language_info": {
      "name": "python"
    }
  },
  "cells": [
    {
      "cell_type": "markdown",
      "source": [
        "# Installing **Yfinance**"
      ],
      "metadata": {
        "id": "TnG4wlrev-iZ"
      }
    },
    {
      "cell_type": "code",
      "execution_count": 19,
      "metadata": {
        "colab": {
          "base_uri": "https://localhost:8080/"
        },
        "id": "JeJr8Dn0v08X",
        "outputId": "779ac4e1-4ece-4825-f7bc-3bbce33d9abd"
      },
      "outputs": [
        {
          "output_type": "stream",
          "name": "stdout",
          "text": [
            "Requirement already satisfied: yfinance in /usr/local/lib/python3.10/dist-packages (0.2.41)\n",
            "Requirement already satisfied: pandas>=1.3.0 in /usr/local/lib/python3.10/dist-packages (from yfinance) (2.1.4)\n",
            "Requirement already satisfied: numpy>=1.16.5 in /usr/local/lib/python3.10/dist-packages (from yfinance) (1.26.4)\n",
            "Requirement already satisfied: requests>=2.31 in /usr/local/lib/python3.10/dist-packages (from yfinance) (2.32.3)\n",
            "Requirement already satisfied: multitasking>=0.0.7 in /usr/local/lib/python3.10/dist-packages (from yfinance) (0.0.11)\n",
            "Requirement already satisfied: lxml>=4.9.1 in /usr/local/lib/python3.10/dist-packages (from yfinance) (4.9.4)\n",
            "Requirement already satisfied: platformdirs>=2.0.0 in /usr/local/lib/python3.10/dist-packages (from yfinance) (4.2.2)\n",
            "Requirement already satisfied: pytz>=2022.5 in /usr/local/lib/python3.10/dist-packages (from yfinance) (2024.1)\n",
            "Requirement already satisfied: frozendict>=2.3.4 in /usr/local/lib/python3.10/dist-packages (from yfinance) (2.4.4)\n",
            "Requirement already satisfied: peewee>=3.16.2 in /usr/local/lib/python3.10/dist-packages (from yfinance) (3.17.6)\n",
            "Requirement already satisfied: beautifulsoup4>=4.11.1 in /usr/local/lib/python3.10/dist-packages (from yfinance) (4.12.3)\n",
            "Requirement already satisfied: html5lib>=1.1 in /usr/local/lib/python3.10/dist-packages (from yfinance) (1.1)\n",
            "Requirement already satisfied: soupsieve>1.2 in /usr/local/lib/python3.10/dist-packages (from beautifulsoup4>=4.11.1->yfinance) (2.6)\n",
            "Requirement already satisfied: six>=1.9 in /usr/local/lib/python3.10/dist-packages (from html5lib>=1.1->yfinance) (1.16.0)\n",
            "Requirement already satisfied: webencodings in /usr/local/lib/python3.10/dist-packages (from html5lib>=1.1->yfinance) (0.5.1)\n",
            "Requirement already satisfied: python-dateutil>=2.8.2 in /usr/local/lib/python3.10/dist-packages (from pandas>=1.3.0->yfinance) (2.8.2)\n",
            "Requirement already satisfied: tzdata>=2022.1 in /usr/local/lib/python3.10/dist-packages (from pandas>=1.3.0->yfinance) (2024.1)\n",
            "Requirement already satisfied: charset-normalizer<4,>=2 in /usr/local/lib/python3.10/dist-packages (from requests>=2.31->yfinance) (3.3.2)\n",
            "Requirement already satisfied: idna<4,>=2.5 in /usr/local/lib/python3.10/dist-packages (from requests>=2.31->yfinance) (3.7)\n",
            "Requirement already satisfied: urllib3<3,>=1.21.1 in /usr/local/lib/python3.10/dist-packages (from requests>=2.31->yfinance) (2.0.7)\n",
            "Requirement already satisfied: certifi>=2017.4.17 in /usr/local/lib/python3.10/dist-packages (from requests>=2.31->yfinance) (2024.7.4)\n"
          ]
        }
      ],
      "source": [
        "!pip install yfinance"
      ]
    },
    {
      "cell_type": "markdown",
      "source": [
        "# Importing **Libraries**"
      ],
      "metadata": {
        "id": "SZJ0JLp_wDk3"
      }
    },
    {
      "cell_type": "code",
      "source": [
        "import pandas as pd\n",
        "import yfinance as yf\n",
        "import datetime"
      ],
      "metadata": {
        "id": "si5sA2YjwIBk"
      },
      "execution_count": 20,
      "outputs": []
    },
    {
      "cell_type": "markdown",
      "source": [
        "# The below code will collect the stock price data from today to the last 360 **days**"
      ],
      "metadata": {
        "id": "Sv2-HNfXx7f8"
      }
    },
    {
      "cell_type": "code",
      "source": [
        "from datetime import date, timedelta\n",
        "today = date.today()"
      ],
      "metadata": {
        "id": "r_7WCQkEwWj-"
      },
      "execution_count": 21,
      "outputs": []
    },
    {
      "cell_type": "code",
      "source": [
        "d1 = today.strftime(\"%Y-%m-%d\")\n",
        "end_date = d1\n",
        "d2 = date.today() - timedelta(days=360)\n",
        "d2 = d2.strftime(\"%Y-%m-%d\")\n",
        "start_date = d2\n",
        "\n",
        "data = yf.download('AAPL',\n",
        "                   start = start_date,\n",
        "                   end = end_date,\n",
        "                   progress = False)\n",
        "\n",
        "print(data.head())"
      ],
      "metadata": {
        "colab": {
          "base_uri": "https://localhost:8080/"
        },
        "id": "_x9X2p3wwfL1",
        "outputId": "128d6029-f94a-42e2-ca9b-88d376e3b95f"
      },
      "execution_count": 22,
      "outputs": [
        {
          "output_type": "stream",
          "name": "stdout",
          "text": [
            "                  Open        High         Low       Close   Adj Close  \\\n",
            "Date                                                                     \n",
            "2023-08-28  180.089996  180.589996  178.550003  180.190002  179.272659   \n",
            "2023-08-29  179.699997  184.899994  179.500000  184.119995  183.182632   \n",
            "2023-08-30  184.940002  187.850006  184.740005  187.649994  186.694672   \n",
            "2023-08-31  187.839996  189.119995  187.479996  187.869995  186.913528   \n",
            "2023-09-01  189.490005  189.919998  188.279999  189.460007  188.495438   \n",
            "\n",
            "              Volume  \n",
            "Date                  \n",
            "2023-08-28  43820700  \n",
            "2023-08-29  53003900  \n",
            "2023-08-30  60813900  \n",
            "2023-08-31  60794500  \n",
            "2023-09-01  45732600  \n"
          ]
        }
      ]
    },
    {
      "cell_type": "code",
      "source": [
        "data['Date'] = data.index\n",
        "data = data[['Date', \"Open\", 'High', 'Low', 'Close', 'Adj Close', 'Volume']]\n",
        "data.reset_index(drop=True, inplace=True)\n",
        "print(data.head())"
      ],
      "metadata": {
        "colab": {
          "base_uri": "https://localhost:8080/"
        },
        "id": "f_1uDlhMx8zc",
        "outputId": "770d11c3-4e93-4faa-c1f1-78204a3e54ab"
      },
      "execution_count": 23,
      "outputs": [
        {
          "output_type": "stream",
          "name": "stdout",
          "text": [
            "        Date        Open        High         Low       Close   Adj Close  \\\n",
            "0 2023-08-28  180.089996  180.589996  178.550003  180.190002  179.272659   \n",
            "1 2023-08-29  179.699997  184.899994  179.500000  184.119995  183.182632   \n",
            "2 2023-08-30  184.940002  187.850006  184.740005  187.649994  186.694672   \n",
            "3 2023-08-31  187.839996  189.119995  187.479996  187.869995  186.913528   \n",
            "4 2023-09-01  189.490005  189.919998  188.279999  189.460007  188.495438   \n",
            "\n",
            "     Volume  \n",
            "0  43820700  \n",
            "1  53003900  \n",
            "2  60813900  \n",
            "3  60794500  \n",
            "4  45732600  \n"
          ]
        }
      ]
    }
  ]
}